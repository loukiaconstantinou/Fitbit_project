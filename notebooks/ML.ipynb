{
 "cells": [
  {
   "cell_type": "code",
   "execution_count": 109,
   "metadata": {},
   "outputs": [],
   "source": [
    "import pandas as pd\n",
    "import matplotlib.pyplot as plt\n",
    "import numpy as np\n",
    "import seaborn as sns"
   ]
  },
  {
   "cell_type": "code",
   "execution_count": 110,
   "metadata": {},
   "outputs": [],
   "source": [
    "new_df = pd.read_csv('combined_csv_files_Loukia_final_df.csv')"
   ]
  },
  {
   "cell_type": "code",
   "execution_count": 111,
   "metadata": {},
   "outputs": [],
   "source": [
    "from sklearn import tree\n",
    "from sklearn.model_selection import train_test_split\n",
    "from sklearn.tree import DecisionTreeClassifier\n",
    "from sklearn.metrics import accuracy_score, precision_score, recall_score\n",
    "from sklearn import metrics"
   ]
  },
  {
   "cell_type": "markdown",
   "metadata": {},
   "source": [
    "# Decision Tree"
   ]
  },
  {
   "cell_type": "code",
   "execution_count": 112,
   "metadata": {},
   "outputs": [],
   "source": [
    "from sklearn.preprocessing import LabelEncoder\n",
    "\n",
    "number = LabelEncoder()\n",
    "new_df['day_num'] = number.fit_transform(new_df['day'].astype(\"str\"))"
   ]
  },
  {
   "cell_type": "code",
   "execution_count": 113,
   "metadata": {},
   "outputs": [
    {
     "name": "stderr",
     "output_type": "stream",
     "text": [
      "C:\\Users\\user\\Anaconda3\\lib\\site-packages\\pandas\\core\\generic.py:6130: SettingWithCopyWarning: \n",
      "A value is trying to be set on a copy of a slice from a DataFrame\n",
      "\n",
      "See the caveats in the documentation: http://pandas.pydata.org/pandas-docs/stable/indexing.html#indexing-view-versus-copy\n",
      "  self._update_inplace(new_data)\n"
     ]
    },
    {
     "name": "stdout",
     "output_type": "stream",
     "text": [
      "X shape: (139, 8)\n",
      "Y shape: (139,)\n",
      "X_train shape: (97, 8). X_test shape: (42, 8)\n"
     ]
    }
   ],
   "source": [
    "X = new_df[['day_num', 'Total_Steps', 'sedentary_minutes', 'lightly_active_minutes', 'moderately_active_minutes', \n",
    "            'very_active_minutes', 'overall_score', 'resting_heart_rate']]\n",
    "X.fillna(X.mean(), inplace=True)\n",
    "\n",
    "threshold = 2000\n",
    "\n",
    "Y = new_df['Total_Calories'] > threshold\n",
    "#Y = new_df['success_steps'] == 'Y'\n",
    "\n",
    "print('X shape: {}'.format(X.shape))\n",
    "print('Y shape: {}'.format(Y.shape))\n",
    "\n",
    "x_train, x_test, y_train, y_test = train_test_split( X, Y, test_size = 0.3, random_state = 42)\n",
    "print('X_train shape: {}. X_test shape: {}'.format(x_train.shape, x_test.shape))"
   ]
  },
  {
   "cell_type": "code",
   "execution_count": 114,
   "metadata": {},
   "outputs": [
    {
     "data": {
      "text/html": [
       "<div>\n",
       "<style scoped>\n",
       "    .dataframe tbody tr th:only-of-type {\n",
       "        vertical-align: middle;\n",
       "    }\n",
       "\n",
       "    .dataframe tbody tr th {\n",
       "        vertical-align: top;\n",
       "    }\n",
       "\n",
       "    .dataframe thead th {\n",
       "        text-align: right;\n",
       "    }\n",
       "</style>\n",
       "<table border=\"1\" class=\"dataframe\">\n",
       "  <thead>\n",
       "    <tr style=\"text-align: right;\">\n",
       "      <th></th>\n",
       "      <th>day_num</th>\n",
       "      <th>Total_Steps</th>\n",
       "      <th>sedentary_minutes</th>\n",
       "      <th>lightly_active_minutes</th>\n",
       "      <th>moderately_active_minutes</th>\n",
       "      <th>very_active_minutes</th>\n",
       "      <th>overall_score</th>\n",
       "      <th>resting_heart_rate</th>\n",
       "    </tr>\n",
       "  </thead>\n",
       "  <tbody>\n",
       "    <tr>\n",
       "      <th>count</th>\n",
       "      <td>97.000000</td>\n",
       "      <td>97.000000</td>\n",
       "      <td>97.000000</td>\n",
       "      <td>97.000000</td>\n",
       "      <td>97.000000</td>\n",
       "      <td>97.000000</td>\n",
       "      <td>97.000000</td>\n",
       "      <td>97.000000</td>\n",
       "    </tr>\n",
       "    <tr>\n",
       "      <th>mean</th>\n",
       "      <td>2.886598</td>\n",
       "      <td>8546.762887</td>\n",
       "      <td>742.989691</td>\n",
       "      <td>196.556701</td>\n",
       "      <td>19.340206</td>\n",
       "      <td>23.835052</td>\n",
       "      <td>76.319588</td>\n",
       "      <td>71.646894</td>\n",
       "    </tr>\n",
       "    <tr>\n",
       "      <th>std</th>\n",
       "      <td>1.999356</td>\n",
       "      <td>4713.248265</td>\n",
       "      <td>111.654834</td>\n",
       "      <td>92.315917</td>\n",
       "      <td>18.290985</td>\n",
       "      <td>23.427050</td>\n",
       "      <td>6.285808</td>\n",
       "      <td>5.689879</td>\n",
       "    </tr>\n",
       "    <tr>\n",
       "      <th>min</th>\n",
       "      <td>0.000000</td>\n",
       "      <td>236.000000</td>\n",
       "      <td>235.000000</td>\n",
       "      <td>15.000000</td>\n",
       "      <td>0.000000</td>\n",
       "      <td>0.000000</td>\n",
       "      <td>60.000000</td>\n",
       "      <td>60.585253</td>\n",
       "    </tr>\n",
       "    <tr>\n",
       "      <th>25%</th>\n",
       "      <td>1.000000</td>\n",
       "      <td>6580.000000</td>\n",
       "      <td>672.000000</td>\n",
       "      <td>130.000000</td>\n",
       "      <td>6.000000</td>\n",
       "      <td>5.000000</td>\n",
       "      <td>73.000000</td>\n",
       "      <td>67.144748</td>\n",
       "    </tr>\n",
       "    <tr>\n",
       "      <th>50%</th>\n",
       "      <td>3.000000</td>\n",
       "      <td>8471.000000</td>\n",
       "      <td>771.000000</td>\n",
       "      <td>174.000000</td>\n",
       "      <td>12.000000</td>\n",
       "      <td>18.000000</td>\n",
       "      <td>77.000000</td>\n",
       "      <td>70.333721</td>\n",
       "    </tr>\n",
       "    <tr>\n",
       "      <th>75%</th>\n",
       "      <td>5.000000</td>\n",
       "      <td>10500.000000</td>\n",
       "      <td>810.000000</td>\n",
       "      <td>247.000000</td>\n",
       "      <td>32.000000</td>\n",
       "      <td>37.000000</td>\n",
       "      <td>80.000000</td>\n",
       "      <td>77.014528</td>\n",
       "    </tr>\n",
       "    <tr>\n",
       "      <th>max</th>\n",
       "      <td>6.000000</td>\n",
       "      <td>27649.000000</td>\n",
       "      <td>987.000000</td>\n",
       "      <td>476.000000</td>\n",
       "      <td>70.000000</td>\n",
       "      <td>104.000000</td>\n",
       "      <td>90.000000</td>\n",
       "      <td>82.003084</td>\n",
       "    </tr>\n",
       "  </tbody>\n",
       "</table>\n",
       "</div>"
      ],
      "text/plain": [
       "         day_num   Total_Steps  sedentary_minutes  lightly_active_minutes  \\\n",
       "count  97.000000     97.000000          97.000000               97.000000   \n",
       "mean    2.886598   8546.762887         742.989691              196.556701   \n",
       "std     1.999356   4713.248265         111.654834               92.315917   \n",
       "min     0.000000    236.000000         235.000000               15.000000   \n",
       "25%     1.000000   6580.000000         672.000000              130.000000   \n",
       "50%     3.000000   8471.000000         771.000000              174.000000   \n",
       "75%     5.000000  10500.000000         810.000000              247.000000   \n",
       "max     6.000000  27649.000000         987.000000              476.000000   \n",
       "\n",
       "       moderately_active_minutes  very_active_minutes  overall_score  \\\n",
       "count                  97.000000            97.000000      97.000000   \n",
       "mean                   19.340206            23.835052      76.319588   \n",
       "std                    18.290985            23.427050       6.285808   \n",
       "min                     0.000000             0.000000      60.000000   \n",
       "25%                     6.000000             5.000000      73.000000   \n",
       "50%                    12.000000            18.000000      77.000000   \n",
       "75%                    32.000000            37.000000      80.000000   \n",
       "max                    70.000000           104.000000      90.000000   \n",
       "\n",
       "       resting_heart_rate  \n",
       "count           97.000000  \n",
       "mean            71.646894  \n",
       "std              5.689879  \n",
       "min             60.585253  \n",
       "25%             67.144748  \n",
       "50%             70.333721  \n",
       "75%             77.014528  \n",
       "max             82.003084  "
      ]
     },
     "execution_count": 114,
     "metadata": {},
     "output_type": "execute_result"
    }
   ],
   "source": [
    "x_train.describe()"
   ]
  },
  {
   "cell_type": "code",
   "execution_count": 115,
   "metadata": {},
   "outputs": [
    {
     "data": {
      "image/png": "[encoded data removed]",
      "text/plain": [
       "<Figure size 864x864 with 1 Axes>"
      ]
     },
     "metadata": {
      "needs_background": "light"
     },
     "output_type": "display_data"
    }
   ],
   "source": [
    "clf_final = tree.DecisionTreeClassifier(random_state=42)\n",
    "clf_final.fit(x_train, y_train)\n",
    "y_pred = clf_final.predict(x_test)\n",
    "fig, ax = plt.subplots(figsize=(12, 12))\n",
    "out = tree.plot_tree(clf_final, feature_names=list(x_train), filled = True)\n",
    "for o in out:\n",
    "    arrow = o.arrow_patch\n",
    "    if arrow is not None:\n",
    "        arrow.set_edgecolor('black')\n",
    "        arrow.set_linewidth(3)\n",
    "plt.show()"
   ]
  },
  {
   "cell_type": "code",
   "execution_count": 116,
   "metadata": {},
   "outputs": [
    {
     "name": "stdout",
     "output_type": "stream",
     "text": [
      "|--- lightly_active_minutes <= 245.00\n",
      "|   |--- Total_Steps <= 13013.50\n",
      "|   |   |--- sedentary_minutes <= 680.00\n",
      "|   |   |   |--- moderately_active_minutes <= 13.50\n",
      "|   |   |   |   |--- class: False\n",
      "|   |   |   |--- moderately_active_minutes >  13.50\n",
      "|   |   |   |   |--- class: True\n",
      "|   |   |--- sedentary_minutes >  680.00\n",
      "|   |   |   |--- class: False\n",
      "|   |--- Total_Steps >  13013.50\n",
      "|   |   |--- class: True\n",
      "|--- lightly_active_minutes >  245.00\n",
      "|   |--- Total_Steps <= 6878.00\n",
      "|   |   |--- very_active_minutes <= 5.50\n",
      "|   |   |   |--- class: False\n",
      "|   |   |--- very_active_minutes >  5.50\n",
      "|   |   |   |--- class: True\n",
      "|   |--- Total_Steps >  6878.00\n",
      "|   |   |--- Total_Steps <= 7900.50\n",
      "|   |   |   |--- lightly_active_minutes <= 342.50\n",
      "|   |   |   |   |--- class: False\n",
      "|   |   |   |--- lightly_active_minutes >  342.50\n",
      "|   |   |   |   |--- class: True\n",
      "|   |   |--- Total_Steps >  7900.50\n",
      "|   |   |   |--- class: True\n",
      "\n"
     ]
    }
   ],
   "source": [
    "from sklearn.tree.export import export_text\n",
    "r=export_text(clf_final, feature_names=list(X.columns))\n",
    "print(r)"
   ]
  },
  {
   "cell_type": "code",
   "execution_count": 117,
   "metadata": {},
   "outputs": [
    {
     "data": {
      "text/html": [
       "<div>\n",
       "<style scoped>\n",
       "    .dataframe tbody tr th:only-of-type {\n",
       "        vertical-align: middle;\n",
       "    }\n",
       "\n",
       "    .dataframe tbody tr th {\n",
       "        vertical-align: top;\n",
       "    }\n",
       "\n",
       "    .dataframe thead th {\n",
       "        text-align: right;\n",
       "    }\n",
       "</style>\n",
       "<table border=\"1\" class=\"dataframe\">\n",
       "  <thead>\n",
       "    <tr style=\"text-align: right;\">\n",
       "      <th></th>\n",
       "      <th>feature</th>\n",
       "      <th>importance</th>\n",
       "    </tr>\n",
       "  </thead>\n",
       "  <tbody>\n",
       "    <tr>\n",
       "      <th>3</th>\n",
       "      <td>lightly_active_minutes</td>\n",
       "      <td>0.513913</td>\n",
       "    </tr>\n",
       "    <tr>\n",
       "      <th>1</th>\n",
       "      <td>Total_Steps</td>\n",
       "      <td>0.302045</td>\n",
       "    </tr>\n",
       "    <tr>\n",
       "      <th>4</th>\n",
       "      <td>moderately_active_minutes</td>\n",
       "      <td>0.094138</td>\n",
       "    </tr>\n",
       "    <tr>\n",
       "      <th>2</th>\n",
       "      <td>sedentary_minutes</td>\n",
       "      <td>0.049739</td>\n",
       "    </tr>\n",
       "    <tr>\n",
       "      <th>5</th>\n",
       "      <td>very_active_minutes</td>\n",
       "      <td>0.040166</td>\n",
       "    </tr>\n",
       "  </tbody>\n",
       "</table>\n",
       "</div>"
      ],
      "text/plain": [
       "                     feature  importance\n",
       "3     lightly_active_minutes    0.513913\n",
       "1                Total_Steps    0.302045\n",
       "4  moderately_active_minutes    0.094138\n",
       "2          sedentary_minutes    0.049739\n",
       "5        very_active_minutes    0.040166"
      ]
     },
     "execution_count": 117,
     "metadata": {},
     "output_type": "execute_result"
    }
   ],
   "source": [
    "import pandas as pd\n",
    "\n",
    "# Extract feature importances\n",
    "fi = pd.DataFrame({'feature': list(x_train.columns),\n",
    "                   'importance': clf_final.feature_importances_}).\\\n",
    "                    sort_values('importance', ascending = False)\n",
    "\n",
    "fi.head()"
   ]
  },
  {
   "cell_type": "code",
   "execution_count": 118,
   "metadata": {},
   "outputs": [
    {
     "name": "stderr",
     "output_type": "stream",
     "text": [
      "No handles with labels found to put in legend.\n"
     ]
    },
    {
     "data": {
      "image/png": "[encoded data removed]",
      "text/plain": [
       "<Figure size 432x288 with 1 Axes>"
      ]
     },
     "metadata": {
      "needs_background": "light"
     },
     "output_type": "display_data"
    }
   ],
   "source": [
    "%matplotlib inline\n",
    "# Creating a bar plot\n",
    "sns.barplot(x=fi.feature, y=fi.importance)\n",
    "# Add labels to your graph\n",
    "plt.xlabel('Features')\n",
    "plt.ylabel('Feature Importance Score')\n",
    "plt.title(\"Visualizing Important Features\")\n",
    "plt.xticks(rotation=75)\n",
    "plt.legend()\n",
    "plt.show()"
   ]
  },
  {
   "cell_type": "code",
   "execution_count": 119,
   "metadata": {},
   "outputs": [
    {
     "data": {
      "text/plain": [
       "[1.0, 0.9285714285714286]"
      ]
     },
     "execution_count": 119,
     "metadata": {},
     "output_type": "execute_result"
    }
   ],
   "source": [
    "train_accuracy = clf_final.score(x_train, y_train) \n",
    "val_accuracy = clf_final.score(x_test, y_test) \n",
    "[train_accuracy,val_accuracy]"
   ]
  },
  {
   "cell_type": "code",
   "execution_count": 120,
   "metadata": {},
   "outputs": [
    {
     "data": {
      "text/plain": [
       "0.9285714285714286"
      ]
     },
     "execution_count": 120,
     "metadata": {},
     "output_type": "execute_result"
    }
   ],
   "source": [
    "accuracy = accuracy_score(y_test, y_pred)\n",
    "accuracy"
   ]
  },
  {
   "cell_type": "code",
   "execution_count": 121,
   "metadata": {},
   "outputs": [
    {
     "data": {
      "image/png": "[encoded data removed]",
      "text/plain": [
       "<Figure size 432x288 with 1 Axes>"
      ]
     },
     "metadata": {
      "needs_background": "light"
     },
     "output_type": "display_data"
    }
   ],
   "source": [
    "fpr, tpr, _ = metrics.roc_curve(y_test,  y_pred)\n",
    "auc = metrics.roc_auc_score(y_test, y_pred)\n",
    "plt.plot(fpr,tpr,label=\"data 1, auc=\"+str(auc))\n",
    "plt.legend(loc=4)\n",
    "plt.show()"
   ]
  },
  {
   "cell_type": "markdown",
   "metadata": {},
   "source": [
    "### Find max depth with best accuracy"
   ]
  },
  {
   "cell_type": "code",
   "execution_count": 122,
   "metadata": {},
   "outputs": [],
   "source": [
    "x_train, x_test, y_train, y_test = train_test_split(X, Y, test_size=0.3, random_state=42)\n",
    "x_test, x_val, y_test, y_val = train_test_split(x_test, y_test, test_size=0.5, random_state=42)"
   ]
  },
  {
   "cell_type": "code",
   "execution_count": 123,
   "metadata": {},
   "outputs": [
    {
     "name": "stdout",
     "output_type": "stream",
     "text": [
      "97\n",
      "21\n",
      "21\n"
     ]
    }
   ],
   "source": [
    "print(len(x_train))\n",
    "print(len(x_val))\n",
    "print(len(x_test))"
   ]
  },
  {
   "cell_type": "code",
   "execution_count": 124,
   "metadata": {},
   "outputs": [],
   "source": [
    "train_accuracy_dict = dict()\n",
    "val_accuracy_dict = dict()\n",
    "val_recall_dict = dict()\n",
    "val_precision_dict= dict()\n",
    "\n",
    "for i in range (1,53):\n",
    "    clfi = tree.DecisionTreeClassifier(random_state=42, max_depth = i)\n",
    "    clfi = clfi.fit(x_train, y_train) \n",
    "    train_accuracy_dict[i] = clfi.score(x_train, y_train)\n",
    "    val_predict = clfi.predict(x_val)\n",
    "    val_accuracy_dict[i] = clfi.score(x_val, y_val)\n",
    "    val_recall_dict[i] = recall_score(val_predict, y_val)\n",
    "    val_precision_dict[i] = precision_score(val_predict, y_val)"
   ]
  },
  {
   "cell_type": "code",
   "execution_count": 125,
   "metadata": {},
   "outputs": [
    {
     "data": {
      "image/png": "[encoded data removed]",
      "text/plain": [
       "<Figure size 432x288 with 1 Axes>"
      ]
     },
     "metadata": {
      "needs_background": "light"
     },
     "output_type": "display_data"
    }
   ],
   "source": [
    "plt.plot(list(train_accuracy_dict.keys()), list(train_accuracy_dict.values()), color='red')\n",
    "plt.plot(list(val_accuracy_dict.keys()), list(val_accuracy_dict.values()), color='blue')\n",
    "plt.gca().legend(('training','validation'))\n",
    "plt.ylabel('Accuracy')\n",
    "plt.xlabel('Max_depth')\n",
    "plt.show()"
   ]
  },
  {
   "cell_type": "code",
   "execution_count": 126,
   "metadata": {},
   "outputs": [
    {
     "name": "stdout",
     "output_type": "stream",
     "text": [
      "0.9523809523809523 4\n"
     ]
    }
   ],
   "source": [
    "depth_optimal=max(val_accuracy_dict, key=val_accuracy_dict.get)\n",
    "print(val_accuracy_dict[depth_optimal],depth_optimal)"
   ]
  },
  {
   "cell_type": "code",
   "execution_count": 127,
   "metadata": {},
   "outputs": [
    {
     "data": {
      "text/plain": [
       "<matplotlib.legend.Legend at 0x28883b307f0>"
      ]
     },
     "execution_count": 127,
     "metadata": {},
     "output_type": "execute_result"
    },
    {
     "data": {
      "image/png": "[encoded data removed]",
      "text/plain": [
       "<Figure size 432x288 with 1 Axes>"
      ]
     },
     "metadata": {
      "needs_background": "light"
     },
     "output_type": "display_data"
    }
   ],
   "source": [
    "plt.plot(list(val_recall_dict.keys()), list(val_recall_dict.values()), color='red', label = 'Recall')\n",
    "plt.plot(list(val_precision_dict.keys()), list(val_precision_dict.values()), color='blue', label = 'Precision')\n",
    "plt.legend()"
   ]
  },
  {
   "cell_type": "code",
   "execution_count": 128,
   "metadata": {},
   "outputs": [],
   "source": [
    "x_trainfull = x_train.append(x_val)\n",
    "y_trainfull = y_train.append(y_val)"
   ]
  },
  {
   "cell_type": "code",
   "execution_count": 129,
   "metadata": {},
   "outputs": [
    {
     "data": {
      "text/plain": [
       "[1.0, 0.9047619047619048]"
      ]
     },
     "execution_count": 129,
     "metadata": {},
     "output_type": "execute_result"
    }
   ],
   "source": [
    "clf_full = tree.DecisionTreeClassifier(random_state=42, max_depth=depth_optimal)\n",
    "clf_full = clf_full.fit(x_trainfull, y_trainfull)\n",
    "trainfull_accuracy = clf_full.score(x_trainfull, y_trainfull) \n",
    "testfull_accuracy = clf_full.score(x_test, y_test) \n",
    "[trainfull_accuracy, testfull_accuracy]"
   ]
  },
  {
   "cell_type": "code",
   "execution_count": 130,
   "metadata": {},
   "outputs": [
    {
     "name": "stdout",
     "output_type": "stream",
     "text": [
      "1.0\n"
     ]
    },
    {
     "data": {
      "text/plain": [
       "<sklearn.metrics._plot.confusion_matrix.ConfusionMatrixDisplay at 0x28883b75390>"
      ]
     },
     "execution_count": 130,
     "metadata": {},
     "output_type": "execute_result"
    },
    {
     "data": {
      "image/png": "[encoded data removed]",
      "text/plain": [
       "<Figure size 432x288 with 2 Axes>"
      ]
     },
     "metadata": {
      "needs_background": "light"
     },
     "output_type": "display_data"
    }
   ],
   "source": [
    "from sklearn.metrics import plot_confusion_matrix\n",
    "\n",
    "#recall score shows the ability of the classifier to find all positive values: tp / (tp+fn)\n",
    "print(recall_score(clf_full.predict(x_test), y_test))\n",
    "plot_confusion_matrix(clf_full, x_test, y_test, values_format='2g')"
   ]
  },
  {
   "cell_type": "code",
   "execution_count": 131,
   "metadata": {},
   "outputs": [
    {
     "data": {
      "text/plain": [
       "[Text(167.4, 195.696, 'lightly_active_minutes <= 251.0\\ngini = 0.395\\nsamples = 118\\nvalue = [86, 32]\\nclass = No'),\n",
       " Text(83.7, 152.208, 'Total_Steps <= 10968.0\\ngini = 0.194\\nsamples = 92\\nvalue = [82, 10]\\nclass = No'),\n",
       " Text(41.85, 108.72, 'overall_score <= 88.5\\ngini = 0.025\\nsamples = 79\\nvalue = [78, 1]\\nclass = No'),\n",
       " Text(20.925, 65.232, 'gini = 0.0\\nsamples = 76\\nvalue = [76, 0]\\nclass = No'),\n",
       " Text(62.775000000000006, 65.232, 'very_active_minutes <= 19.5\\ngini = 0.444\\nsamples = 3\\nvalue = [2, 1]\\nclass = No'),\n",
       " Text(41.85, 21.744, 'gini = 0.0\\nsamples = 2\\nvalue = [2, 0]\\nclass = No'),\n",
       " Text(83.7, 21.744, 'gini = 0.0\\nsamples = 1\\nvalue = [0, 1]\\nclass = Yes'),\n",
       " Text(125.55000000000001, 108.72, 'lightly_active_minutes <= 171.5\\ngini = 0.426\\nsamples = 13\\nvalue = [4, 9]\\nclass = Yes'),\n",
       " Text(104.625, 65.232, 'gini = 0.0\\nsamples = 4\\nvalue = [4, 0]\\nclass = No'),\n",
       " Text(146.475, 65.232, 'gini = 0.0\\nsamples = 9\\nvalue = [0, 9]\\nclass = Yes'),\n",
       " Text(251.10000000000002, 152.208, 'Total_Steps <= 6878.0\\ngini = 0.26\\nsamples = 26\\nvalue = [4, 22]\\nclass = Yes'),\n",
       " Text(209.25, 108.72, 'moderately_active_minutes <= 18.5\\ngini = 0.375\\nsamples = 4\\nvalue = [3, 1]\\nclass = No'),\n",
       " Text(188.32500000000002, 65.232, 'gini = 0.0\\nsamples = 3\\nvalue = [3, 0]\\nclass = No'),\n",
       " Text(230.175, 65.232, 'gini = 0.0\\nsamples = 1\\nvalue = [0, 1]\\nclass = Yes'),\n",
       " Text(292.95, 108.72, 'Total_Steps <= 7900.5\\ngini = 0.087\\nsamples = 22\\nvalue = [1, 21]\\nclass = Yes'),\n",
       " Text(272.02500000000003, 65.232, 'lightly_active_minutes <= 342.5\\ngini = 0.444\\nsamples = 3\\nvalue = [1, 2]\\nclass = Yes'),\n",
       " Text(251.10000000000002, 21.744, 'gini = 0.0\\nsamples = 1\\nvalue = [1, 0]\\nclass = No'),\n",
       " Text(292.95, 21.744, 'gini = 0.0\\nsamples = 2\\nvalue = [0, 2]\\nclass = Yes'),\n",
       " Text(313.875, 65.232, 'gini = 0.0\\nsamples = 19\\nvalue = [0, 19]\\nclass = Yes')]"
      ]
     },
     "execution_count": 131,
     "metadata": {},
     "output_type": "execute_result"
    },
    {
     "data": {
      "image/png": "[encoded data removed]",
      "text/plain": [
       "<Figure size 432x288 with 1 Axes>"
      ]
     },
     "metadata": {
      "needs_background": "light"
     },
     "output_type": "display_data"
    }
   ],
   "source": [
    "tree.plot_tree(clf_full, feature_names=X.columns, class_names=['No', 'Yes'], filled=True)"
   ]
  },
  {
   "cell_type": "code",
   "execution_count": 132,
   "metadata": {
    "scrolled": true
   },
   "outputs": [
    {
     "name": "stdout",
     "output_type": "stream",
     "text": [
      "|--- lightly_active_minutes <= 251.00\n",
      "|   |--- Total_Steps <= 10968.00\n",
      "|   |   |--- overall_score <= 88.50\n",
      "|   |   |   |--- class: False\n",
      "|   |   |--- overall_score >  88.50\n",
      "|   |   |   |--- very_active_minutes <= 19.50\n",
      "|   |   |   |   |--- class: False\n",
      "|   |   |   |--- very_active_minutes >  19.50\n",
      "|   |   |   |   |--- class: True\n",
      "|   |--- Total_Steps >  10968.00\n",
      "|   |   |--- lightly_active_minutes <= 171.50\n",
      "|   |   |   |--- class: False\n",
      "|   |   |--- lightly_active_minutes >  171.50\n",
      "|   |   |   |--- class: True\n",
      "|--- lightly_active_minutes >  251.00\n",
      "|   |--- Total_Steps <= 6878.00\n",
      "|   |   |--- moderately_active_minutes <= 18.50\n",
      "|   |   |   |--- class: False\n",
      "|   |   |--- moderately_active_minutes >  18.50\n",
      "|   |   |   |--- class: True\n",
      "|   |--- Total_Steps >  6878.00\n",
      "|   |   |--- Total_Steps <= 7900.50\n",
      "|   |   |   |--- lightly_active_minutes <= 342.50\n",
      "|   |   |   |   |--- class: False\n",
      "|   |   |   |--- lightly_active_minutes >  342.50\n",
      "|   |   |   |   |--- class: True\n",
      "|   |   |--- Total_Steps >  7900.50\n",
      "|   |   |   |--- class: True\n",
      "\n"
     ]
    }
   ],
   "source": [
    "from sklearn.tree.export import export_text\n",
    "r=export_text(clf_full, feature_names=list(X.columns))\n",
    "print(r)"
   ]
  },
  {
   "cell_type": "code",
   "execution_count": 133,
   "metadata": {},
   "outputs": [
    {
     "data": {
      "image/png": "[encoded data removed]",
      "text/plain": [
       "<Figure size 432x288 with 1 Axes>"
      ]
     },
     "metadata": {
      "needs_background": "light"
     },
     "output_type": "display_data"
    }
   ],
   "source": [
    "\n"
   ]
  },
  {
   "cell_type": "markdown",
   "metadata": {},
   "source": [
    "## Random Forest"
   ]
  },
  {
   "cell_type": "code",
   "execution_count": 95,
   "metadata": {},
   "outputs": [
    {
     "name": "stderr",
     "output_type": "stream",
     "text": [
      "C:\\Users\\user\\Anaconda3\\lib\\site-packages\\pandas\\core\\generic.py:6130: SettingWithCopyWarning: \n",
      "A value is trying to be set on a copy of a slice from a DataFrame\n",
      "\n",
      "See the caveats in the documentation: http://pandas.pydata.org/pandas-docs/stable/indexing.html#indexing-view-versus-copy\n",
      "  self._update_inplace(new_data)\n"
     ]
    },
    {
     "name": "stdout",
     "output_type": "stream",
     "text": [
      "X shape: (139, 8)\n",
      "Y shape: (139,)\n",
      "X_train shape: (97, 8). X_test shape: (42, 8)\n"
     ]
    }
   ],
   "source": [
    "X = new_df[['day_num', 'Total_Steps', 'sedentary_minutes', 'lightly_active_minutes', 'moderately_active_minutes', \n",
    "            'very_active_minutes', 'overall_score', 'resting_heart_rate']]\n",
    "X.fillna(X.mean(), inplace=True)\n",
    "\n",
    "threshold = 2000\n",
    "\n",
    "Y = new_df['Total_Calories'] > threshold\n",
    "#Y = new_df['success_steps'] == 'Y'\n",
    "\n",
    "print('X shape: {}'.format(X.shape))\n",
    "print('Y shape: {}'.format(Y.shape))\n",
    "\n",
    "x_train, x_test, y_train, y_test = train_test_split( X, Y, test_size = 0.3, random_state = 42)\n",
    "print('X_train shape: {}. X_test shape: {}'.format(x_train.shape, x_test.shape))"
   ]
  },
  {
   "cell_type": "code",
   "execution_count": 96,
   "metadata": {},
   "outputs": [
    {
     "data": {
      "text/plain": [
       "RandomForestClassifier(bootstrap=True, ccp_alpha=0.0, class_weight=None,\n",
       "                       criterion='gini', max_depth=None, max_features='auto',\n",
       "                       max_leaf_nodes=None, max_samples=None,\n",
       "                       min_impurity_decrease=0.0, min_impurity_split=None,\n",
       "                       min_samples_leaf=1, min_samples_split=2,\n",
       "                       min_weight_fraction_leaf=0.0, n_estimators=100,\n",
       "                       n_jobs=None, oob_score=False, random_state=42, verbose=0,\n",
       "                       warm_start=False)"
      ]
     },
     "execution_count": 96,
     "metadata": {},
     "output_type": "execute_result"
    }
   ],
   "source": [
    "# Import the model we are using\n",
    "from sklearn.ensemble import RandomForestClassifier\n",
    "# Instantiate model with 1000 decision trees\n",
    "rf = RandomForestClassifier(n_estimators = 100, random_state = 42)\n",
    "# Train the model on training data\n",
    "rf.fit(x_train, y_train)"
   ]
  },
  {
   "cell_type": "code",
   "execution_count": 97,
   "metadata": {},
   "outputs": [
    {
     "data": {
      "text/plain": [
       "0.9761904761904762"
      ]
     },
     "execution_count": 97,
     "metadata": {},
     "output_type": "execute_result"
    }
   ],
   "source": [
    "rf.score(x_test, y_test)"
   ]
  },
  {
   "cell_type": "code",
   "execution_count": 98,
   "metadata": {},
   "outputs": [],
   "source": [
    "# Actual class predictions\n",
    "rf_predictions = rf.predict(x_test)\n",
    "# Probabilities for each class\n",
    "rf_probs = rf.predict_proba(x_test)[:,1]"
   ]
  },
  {
   "cell_type": "code",
   "execution_count": 105,
   "metadata": {},
   "outputs": [
    {
     "data": {
      "image/png": "[encoded data removed]",
      "text/plain": [
       "<Figure size 432x288 with 1 Axes>"
      ]
     },
     "metadata": {
      "needs_background": "light"
     },
     "output_type": "display_data"
    }
   ],
   "source": [
    "y_pred = clf_full.predict(x_test)\n",
    "fpr, tpr, _ = metrics.roc_curve(y_test,  rf_probs)\n",
    "auc = metrics.roc_auc_score(y_test, rf_probs)\n",
    "plt.plot(fpr,tpr,label=\"data 1, auc=\"+str(auc))\n",
    "plt.legend(loc=4)\n",
    "plt.show()"
   ]
  },
  {
   "cell_type": "code",
   "execution_count": 101,
   "metadata": {},
   "outputs": [
    {
     "data": {
      "text/html": [
       "<div>\n",
       "<style scoped>\n",
       "    .dataframe tbody tr th:only-of-type {\n",
       "        vertical-align: middle;\n",
       "    }\n",
       "\n",
       "    .dataframe tbody tr th {\n",
       "        vertical-align: top;\n",
       "    }\n",
       "\n",
       "    .dataframe thead th {\n",
       "        text-align: right;\n",
       "    }\n",
       "</style>\n",
       "<table border=\"1\" class=\"dataframe\">\n",
       "  <thead>\n",
       "    <tr style=\"text-align: right;\">\n",
       "      <th></th>\n",
       "      <th>feature</th>\n",
       "      <th>importance</th>\n",
       "    </tr>\n",
       "  </thead>\n",
       "  <tbody>\n",
       "    <tr>\n",
       "      <th>3</th>\n",
       "      <td>lightly_active_minutes</td>\n",
       "      <td>0.258923</td>\n",
       "    </tr>\n",
       "    <tr>\n",
       "      <th>2</th>\n",
       "      <td>sedentary_minutes</td>\n",
       "      <td>0.247952</td>\n",
       "    </tr>\n",
       "    <tr>\n",
       "      <th>1</th>\n",
       "      <td>Total_Steps</td>\n",
       "      <td>0.206376</td>\n",
       "    </tr>\n",
       "    <tr>\n",
       "      <th>6</th>\n",
       "      <td>overall_score</td>\n",
       "      <td>0.079035</td>\n",
       "    </tr>\n",
       "    <tr>\n",
       "      <th>4</th>\n",
       "      <td>moderately_active_minutes</td>\n",
       "      <td>0.065565</td>\n",
       "    </tr>\n",
       "  </tbody>\n",
       "</table>\n",
       "</div>"
      ],
      "text/plain": [
       "                     feature  importance\n",
       "3     lightly_active_minutes    0.258923\n",
       "2          sedentary_minutes    0.247952\n",
       "1                Total_Steps    0.206376\n",
       "6              overall_score    0.079035\n",
       "4  moderately_active_minutes    0.065565"
      ]
     },
     "execution_count": 101,
     "metadata": {},
     "output_type": "execute_result"
    }
   ],
   "source": [
    "import pandas as pd\n",
    "\n",
    "# Extract feature importances\n",
    "fi = pd.DataFrame({'feature': list(x_train.columns),\n",
    "                   'importance': rf.feature_importances_}).\\\n",
    "                    sort_values('importance', ascending = False)\n",
    "\n",
    "fi.head()"
   ]
  },
  {
   "cell_type": "code",
   "execution_count": 102,
   "metadata": {},
   "outputs": [
    {
     "name": "stderr",
     "output_type": "stream",
     "text": [
      "No handles with labels found to put in legend.\n"
     ]
    },
    {
     "data": {
      "image/png": "[encoded data removed]",
      "text/plain": [
       "<Figure size 432x288 with 1 Axes>"
      ]
     },
     "metadata": {
      "needs_background": "light"
     },
     "output_type": "display_data"
    }
   ],
   "source": [
    "import matplotlib.pyplot as plt\n",
    "import seaborn as sns\n",
    "%matplotlib inline\n",
    "# Creating a bar plot\n",
    "sns.barplot(x=fi.feature, y=fi.importance)\n",
    "# Add labels to your graph\n",
    "plt.xlabel('Features')\n",
    "plt.ylabel('Feature Importance Score')\n",
    "plt.title(\"Visualizing Important Features\")\n",
    "plt.xticks(rotation=75)\n",
    "plt.legend()\n",
    "plt.show()"
   ]
  },
  {
   "cell_type": "code",
   "execution_count": 103,
   "metadata": {},
   "outputs": [],
   "source": [
    "# Import tools needed for visualization\n",
    "from sklearn.tree import export_graphviz\n",
    "import pydot\n",
    "# Pull out one tree from the forest\n",
    "tree = rf.estimators_[5]\n",
    "# Import tools needed for visualization\n",
    "from sklearn.tree import export_graphviz\n",
    "import pydot\n",
    "# Pull out one tree from the forest\n",
    "tree = rf.estimators_[5]\n",
    "# Export the image to a dot file\n",
    "export_graphviz(tree, out_file = 'tree.dot', feature_names = X.columns, rounded = True, precision = 1)\n",
    "# Use dot file to create a graph\n",
    "(graph, ) = pydot.graph_from_dot_file('tree.dot')\n",
    "# Write graph to a png file\n",
    "graph.write_png('tree.png')"
   ]
  },
  {
   "cell_type": "markdown",
   "metadata": {},
   "source": [
    "# Logistic Regression"
   ]
  },
  {
   "cell_type": "code",
   "execution_count": 134,
   "metadata": {},
   "outputs": [
    {
     "name": "stderr",
     "output_type": "stream",
     "text": [
      "C:\\Users\\user\\Anaconda3\\lib\\site-packages\\pandas\\core\\generic.py:6130: SettingWithCopyWarning: \n",
      "A value is trying to be set on a copy of a slice from a DataFrame\n",
      "\n",
      "See the caveats in the documentation: http://pandas.pydata.org/pandas-docs/stable/indexing.html#indexing-view-versus-copy\n",
      "  self._update_inplace(new_data)\n"
     ]
    },
    {
     "name": "stdout",
     "output_type": "stream",
     "text": [
      "X shape: (139, 8)\n",
      "Y shape: (139,)\n",
      "X_train shape: (97, 8). X_test shape: (42, 8)\n"
     ]
    }
   ],
   "source": [
    "X = new_df[['day_num', 'Total_Steps', 'sedentary_minutes', 'lightly_active_minutes', 'moderately_active_minutes', \n",
    "            'very_active_minutes', 'overall_score', 'resting_heart_rate']]\n",
    "X.fillna(X.mean(), inplace=True)\n",
    "\n",
    "threshold = 2000\n",
    "\n",
    "Y = new_df['Total_Calories'] > threshold\n",
    "#Y = new_df['success_steps'] == 'Y'\n",
    "\n",
    "print('X shape: {}'.format(X.shape))\n",
    "print('Y shape: {}'.format(Y.shape))\n",
    "\n",
    "x_train, x_test, y_train, y_test = train_test_split(X, Y, test_size = 0.3, random_state = 42)\n",
    "print('X_train shape: {}. X_test shape: {}'.format(x_train.shape, x_test.shape))"
   ]
  },
  {
   "cell_type": "code",
   "execution_count": 135,
   "metadata": {},
   "outputs": [
    {
     "name": "stdout",
     "output_type": "stream",
     "text": [
      "Optimization terminated successfully.\n",
      "         Current function value: 0.092200\n",
      "         Iterations 10\n",
      "                             Results: Logit\n",
      "========================================================================\n",
      "Model:                 Logit              Pseudo R-squared:   0.848     \n",
      "Dependent Variable:    Total_Calories     AIC:                41.6315   \n",
      "Date:                  2020-08-12 09:52   BIC:                65.1073   \n",
      "No. Observations:      139                Log-Likelihood:     -12.816   \n",
      "Df Model:              7                  LL-Null:            -84.309   \n",
      "Df Residuals:          131                LLR p-value:        1.2033e-27\n",
      "Converged:             1.0000             Scale:              1.0000    \n",
      "No. Iterations:        10.0000                                          \n",
      "------------------------------------------------------------------------\n",
      "                           Coef.  Std.Err.    z    P>|z|   [0.025 0.975]\n",
      "------------------------------------------------------------------------\n",
      "day_num                    0.3097   0.3355  0.9232 0.3559 -0.3478 0.9672\n",
      "Total_Steps                0.0008   0.0005  1.7474 0.0806 -0.0001 0.0017\n",
      "sedentary_minutes         -0.0157   0.0084 -1.8688 0.0617 -0.0322 0.0008\n",
      "lightly_active_minutes     0.0629   0.0232  2.7118 0.0067  0.0175 0.1084\n",
      "moderately_active_minutes  0.0982   0.0634  1.5504 0.1210 -0.0259 0.2224\n",
      "very_active_minutes        0.0611   0.0639  0.9561 0.3390 -0.0641 0.1863\n",
      "overall_score             -0.0865   0.0690 -1.2525 0.2104 -0.2218 0.0488\n",
      "resting_heart_rate        -0.1214   0.1330 -0.9127 0.3614 -0.3821 0.1393\n",
      "========================================================================\n",
      "\n"
     ]
    }
   ],
   "source": [
    "import statsmodels.api as sm\n",
    "\n",
    "logit_model=sm.Logit(Y,X)\n",
    "result=logit_model.fit()\n",
    "print(result.summary2())"
   ]
  },
  {
   "cell_type": "code",
   "execution_count": 136,
   "metadata": {},
   "outputs": [
    {
     "name": "stdout",
     "output_type": "stream",
     "text": [
      "Accuracy of logistic regression classifier on test set: 0.93\n"
     ]
    },
    {
     "name": "stderr",
     "output_type": "stream",
     "text": [
      "C:\\Users\\user\\Anaconda3\\lib\\site-packages\\sklearn\\linear_model\\_logistic.py:940: ConvergenceWarning: lbfgs failed to converge (status=1):\n",
      "STOP: TOTAL NO. of ITERATIONS REACHED LIMIT.\n",
      "\n",
      "Increase the number of iterations (max_iter) or scale the data as shown in:\n",
      "    https://scikit-learn.org/stable/modules/preprocessing.html\n",
      "Please also refer to the documentation for alternative solver options:\n",
      "    https://scikit-learn.org/stable/modules/linear_model.html#logistic-regression\n",
      "  extra_warning_msg=_LOGISTIC_SOLVER_CONVERGENCE_MSG)\n"
     ]
    }
   ],
   "source": [
    "from sklearn.linear_model import LogisticRegression\n",
    "\n",
    "logreg = LogisticRegression()\n",
    "logreg.fit(x_train, y_train)\n",
    "\n",
    "y_pred = logreg.predict(x_test)\n",
    "print('Accuracy of logistic regression classifier on test set: {:.2f}'.format(logreg.score(x_test, y_test)))"
   ]
  },
  {
   "cell_type": "code",
   "execution_count": 137,
   "metadata": {},
   "outputs": [
    {
     "data": {
      "image/png": "[encoded data removed]",
      "text/plain": [
       "<Figure size 432x288 with 1 Axes>"
      ]
     },
     "metadata": {
      "needs_background": "light"
     },
     "output_type": "display_data"
    }
   ],
   "source": [
    "from sklearn import metrics\n",
    "\n",
    "fpr, tpr, _ = metrics.roc_curve(y_test,  y_pred)\n",
    "auc = metrics.roc_auc_score(y_test, y_pred)\n",
    "plt.plot(fpr,tpr,label=\"data 1, auc=\"+str(auc))\n",
    "plt.legend(loc=4)\n",
    "plt.show()"
   ]
  },
  {
   "cell_type": "code",
   "execution_count": 138,
   "metadata": {},
   "outputs": [
    {
     "name": "stdout",
     "output_type": "stream",
     "text": [
      "              precision    recall  f1-score   support\n",
      "\n",
      "       False       0.93      0.97      0.95        29\n",
      "        True       0.92      0.85      0.88        13\n",
      "\n",
      "    accuracy                           0.93        42\n",
      "   macro avg       0.93      0.91      0.91        42\n",
      "weighted avg       0.93      0.93      0.93        42\n",
      "\n"
     ]
    }
   ],
   "source": [
    "from sklearn.metrics import classification_report\n",
    "print(classification_report(y_test, y_pred))"
   ]
  },
  {
   "cell_type": "markdown",
   "metadata": {},
   "source": [
    "# Linear Regression"
   ]
  },
  {
   "cell_type": "code",
   "execution_count": 143,
   "metadata": {},
   "outputs": [
    {
     "name": "stderr",
     "output_type": "stream",
     "text": [
      "C:\\Users\\user\\Anaconda3\\lib\\site-packages\\pandas\\core\\generic.py:6130: SettingWithCopyWarning: \n",
      "A value is trying to be set on a copy of a slice from a DataFrame\n",
      "\n",
      "See the caveats in the documentation: http://pandas.pydata.org/pandas-docs/stable/indexing.html#indexing-view-versus-copy\n",
      "  self._update_inplace(new_data)\n"
     ]
    },
    {
     "name": "stdout",
     "output_type": "stream",
     "text": [
      "X shape: (139, 8)\n",
      "Y shape: (139,)\n",
      "X_train shape: (97, 8). X_test shape: (42, 8)\n"
     ]
    }
   ],
   "source": [
    "X = new_df[['day_num', 'Total_Steps', 'sedentary_minutes', 'lightly_active_minutes', 'moderately_active_minutes', \n",
    "            'very_active_minutes', 'overall_score', 'resting_heart_rate']]\n",
    "X.fillna(X.mean(), inplace=True)\n",
    "\n",
    "Y = new_df['Total_Calories']\n",
    "#Y = new_df['Total_Steps']\n",
    "\n",
    "print('X shape: {}'.format(X.shape))\n",
    "print('Y shape: {}'.format(Y.shape))\n",
    "\n",
    "x_train, x_test, y_train, y_test = train_test_split(X, Y, test_size = 0.3, random_state = 42)\n",
    "print('X_train shape: {}. X_test shape: {}'.format(x_train.shape, x_test.shape))"
   ]
  },
  {
   "cell_type": "code",
   "execution_count": 144,
   "metadata": {},
   "outputs": [
    {
     "name": "stdout",
     "output_type": "stream",
     "text": [
      "                           0         0\n",
      "0                    day_num  4.279220\n",
      "1                Total_Steps  0.002589\n",
      "2          sedentary_minutes  0.480810\n",
      "3     lightly_active_minutes  2.871156\n",
      "4  moderately_active_minutes  4.311747\n",
      "5        very_active_minutes  5.388659\n",
      "6              overall_score  2.866358\n",
      "7         resting_heart_rate -2.637587\n",
      "r2_error: 0.97\n",
      "Mean squared error: 1985.68\n",
      "Mean Absolute Error: 34.552967759523455\n",
      "Root Mean Squared Error: 44.56093034704736\n"
     ]
    }
   ],
   "source": [
    "from sklearn import linear_model\n",
    "from sklearn.metrics import mean_squared_error, r2_score\n",
    "\n",
    "# Create linear regression object\n",
    "regr = linear_model.LinearRegression()\n",
    "\n",
    "# Train the model using the training sets\n",
    "regr.fit(x_train, y_train)\n",
    "\n",
    "# Make predictions using the testing set\n",
    "lr_y_pred = regr.predict(x_test)\n",
    "\n",
    "coefficients = pd.concat([pd.DataFrame(X.columns),pd.DataFrame(np.transpose(regr.coef_))], axis = 1)\n",
    "print(coefficients)\n",
    "print(\"r2_error: %.2f\"% r2_score(y_test, lr_y_pred))\n",
    "print(\"Mean squared error: %.2f\"% mean_squared_error(y_test, lr_y_pred))\n",
    "print('Mean Absolute Error:', metrics.mean_absolute_error(y_test, lr_y_pred))  \n",
    "print('Root Mean Squared Error:', np.sqrt(metrics.mean_squared_error(y_test, lr_y_pred)))"
   ]
  },
  {
   "cell_type": "code",
   "execution_count": 141,
   "metadata": {},
   "outputs": [
    {
     "data": {
      "text/html": [
       "<div>\n",
       "<style scoped>\n",
       "    .dataframe tbody tr th:only-of-type {\n",
       "        vertical-align: middle;\n",
       "    }\n",
       "\n",
       "    .dataframe tbody tr th {\n",
       "        vertical-align: top;\n",
       "    }\n",
       "\n",
       "    .dataframe thead th {\n",
       "        text-align: right;\n",
       "    }\n",
       "</style>\n",
       "<table border=\"1\" class=\"dataframe\">\n",
       "  <thead>\n",
       "    <tr style=\"text-align: right;\">\n",
       "      <th></th>\n",
       "      <th>Actual</th>\n",
       "      <th>Predicted</th>\n",
       "    </tr>\n",
       "  </thead>\n",
       "  <tbody>\n",
       "    <tr>\n",
       "      <th>135</th>\n",
       "      <td>2136.32</td>\n",
       "      <td>2235.625997</td>\n",
       "    </tr>\n",
       "    <tr>\n",
       "      <th>66</th>\n",
       "      <td>1850.86</td>\n",
       "      <td>1859.699908</td>\n",
       "    </tr>\n",
       "    <tr>\n",
       "      <th>31</th>\n",
       "      <td>2226.69</td>\n",
       "      <td>2166.591158</td>\n",
       "    </tr>\n",
       "    <tr>\n",
       "      <th>118</th>\n",
       "      <td>2443.50</td>\n",
       "      <td>2408.828409</td>\n",
       "    </tr>\n",
       "    <tr>\n",
       "      <th>42</th>\n",
       "      <td>1797.26</td>\n",
       "      <td>1825.393643</td>\n",
       "    </tr>\n",
       "    <tr>\n",
       "      <th>12</th>\n",
       "      <td>1877.21</td>\n",
       "      <td>1917.644758</td>\n",
       "    </tr>\n",
       "    <tr>\n",
       "      <th>51</th>\n",
       "      <td>1852.61</td>\n",
       "      <td>1860.559815</td>\n",
       "    </tr>\n",
       "    <tr>\n",
       "      <th>68</th>\n",
       "      <td>1864.57</td>\n",
       "      <td>1927.068626</td>\n",
       "    </tr>\n",
       "    <tr>\n",
       "      <th>126</th>\n",
       "      <td>1888.75</td>\n",
       "      <td>1856.121091</td>\n",
       "    </tr>\n",
       "    <tr>\n",
       "      <th>55</th>\n",
       "      <td>1808.93</td>\n",
       "      <td>1788.199864</td>\n",
       "    </tr>\n",
       "    <tr>\n",
       "      <th>112</th>\n",
       "      <td>1965.74</td>\n",
       "      <td>1995.176838</td>\n",
       "    </tr>\n",
       "    <tr>\n",
       "      <th>130</th>\n",
       "      <td>1886.84</td>\n",
       "      <td>1844.946971</td>\n",
       "    </tr>\n",
       "    <tr>\n",
       "      <th>80</th>\n",
       "      <td>1763.37</td>\n",
       "      <td>1712.940285</td>\n",
       "    </tr>\n",
       "    <tr>\n",
       "      <th>19</th>\n",
       "      <td>1657.76</td>\n",
       "      <td>1652.645854</td>\n",
       "    </tr>\n",
       "    <tr>\n",
       "      <th>86</th>\n",
       "      <td>2022.02</td>\n",
       "      <td>2002.351112</td>\n",
       "    </tr>\n",
       "    <tr>\n",
       "      <th>69</th>\n",
       "      <td>1953.90</td>\n",
       "      <td>1980.302621</td>\n",
       "    </tr>\n",
       "    <tr>\n",
       "      <th>11</th>\n",
       "      <td>2567.41</td>\n",
       "      <td>2671.997082</td>\n",
       "    </tr>\n",
       "    <tr>\n",
       "      <th>27</th>\n",
       "      <td>2065.97</td>\n",
       "      <td>2103.385376</td>\n",
       "    </tr>\n",
       "    <tr>\n",
       "      <th>134</th>\n",
       "      <td>1808.55</td>\n",
       "      <td>1793.110607</td>\n",
       "    </tr>\n",
       "    <tr>\n",
       "      <th>109</th>\n",
       "      <td>1517.37</td>\n",
       "      <td>1519.163853</td>\n",
       "    </tr>\n",
       "    <tr>\n",
       "      <th>36</th>\n",
       "      <td>2030.85</td>\n",
       "      <td>1910.631486</td>\n",
       "    </tr>\n",
       "    <tr>\n",
       "      <th>117</th>\n",
       "      <td>2357.48</td>\n",
       "      <td>2432.424138</td>\n",
       "    </tr>\n",
       "    <tr>\n",
       "      <th>78</th>\n",
       "      <td>2585.56</td>\n",
       "      <td>2573.900810</td>\n",
       "    </tr>\n",
       "    <tr>\n",
       "      <th>4</th>\n",
       "      <td>2214.48</td>\n",
       "      <td>2275.336916</td>\n",
       "    </tr>\n",
       "    <tr>\n",
       "      <th>73</th>\n",
       "      <td>1614.04</td>\n",
       "      <td>1630.310136</td>\n",
       "    </tr>\n",
       "  </tbody>\n",
       "</table>\n",
       "</div>"
      ],
      "text/plain": [
       "      Actual    Predicted\n",
       "135  2136.32  2235.625997\n",
       "66   1850.86  1859.699908\n",
       "31   2226.69  2166.591158\n",
       "118  2443.50  2408.828409\n",
       "42   1797.26  1825.393643\n",
       "12   1877.21  1917.644758\n",
       "51   1852.61  1860.559815\n",
       "68   1864.57  1927.068626\n",
       "126  1888.75  1856.121091\n",
       "55   1808.93  1788.199864\n",
       "112  1965.74  1995.176838\n",
       "130  1886.84  1844.946971\n",
       "80   1763.37  1712.940285\n",
       "19   1657.76  1652.645854\n",
       "86   2022.02  2002.351112\n",
       "69   1953.90  1980.302621\n",
       "11   2567.41  2671.997082\n",
       "27   2065.97  2103.385376\n",
       "134  1808.55  1793.110607\n",
       "109  1517.37  1519.163853\n",
       "36   2030.85  1910.631486\n",
       "117  2357.48  2432.424138\n",
       "78   2585.56  2573.900810\n",
       "4    2214.48  2275.336916\n",
       "73   1614.04  1630.310136"
      ]
     },
     "execution_count": 141,
     "metadata": {},
     "output_type": "execute_result"
    }
   ],
   "source": [
    "df = pd.DataFrame({'Actual': y_test, 'Predicted': lr_y_pred})\n",
    "df.head(25)"
   ]
  },
  {
   "cell_type": "code",
   "execution_count": 142,
   "metadata": {},
   "outputs": [
    {
     "name": "stdout",
     "output_type": "stream",
     "text": [
      "Residuals:\n",
      "      Min       1Q  Median       3Q       Max\n",
      "-149.2003 -28.9458 -3.0481  26.8398  205.8588\n",
      "\n",
      "\n",
      "Coefficients:\n",
      "                             Estimate  Std. Error  t value   p value\n",
      "_intercept                 727.250077  148.978513   4.8816  0.000004\n",
      "day_num                      4.279220    2.771371   1.5441  0.125859\n",
      "Total_Steps                  0.002589    0.000617   4.1937  0.000061\n",
      "sedentary_minutes            0.480810    0.018122  26.5317  0.000000\n",
      "lightly_active_minutes       2.871156    0.067780  42.3602  0.000000\n",
      "moderately_active_minutes    4.311747    0.352232  12.2412  0.000000\n",
      "very_active_minutes          5.388659    0.335202  16.0759  0.000000\n",
      "overall_score                2.866358    0.660006   4.3429  0.000035\n",
      "resting_heart_rate          -2.637587    0.887324  -2.9725  0.003734\n",
      "---\n",
      "R-squared:  0.96969,    Adjusted R-squared:  0.96693\n",
      "F-statistic: 351.90 on 8 features\n"
     ]
    }
   ],
   "source": [
    "from regressors import stats\n",
    "\n",
    "stats.summary(regr, x_train, y_train, x_train.columns)"
   ]
  },
  {
   "cell_type": "code",
   "execution_count": null,
   "metadata": {},
   "outputs": [],
   "source": []
  }
 ],
 "metadata": {
  "kernelspec": {
   "display_name": "Python 3",
   "language": "python",
   "name": "python3"
  },
  "language_info": {
   "codemirror_mode": {
    "name": "ipython",
    "version": 3
   },
   "file_extension": ".py",
   "mimetype": "text/x-python",
   "name": "python",
   "nbconvert_exporter": "python",
   "pygments_lexer": "ipython3",
   "version": "3.7.3"
  }
 },
 "nbformat": 4,
 "nbformat_minor": 2
}
